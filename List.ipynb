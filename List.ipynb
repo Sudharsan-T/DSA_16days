{
 "cells": [
  {
   "cell_type": "markdown",
   "id": "1fd5d5cb",
   "metadata": {},
   "source": [
    "# LIST"
   ]
  },
  {
   "cell_type": "code",
   "execution_count": 2,
   "id": "814d13a2",
   "metadata": {},
   "outputs": [],
   "source": [
    "a = 7\n",
    "b = -3\n",
    "c = [1,2,3,1,2]\n",
    "d = 99"
   ]
  },
  {
   "cell_type": "code",
   "execution_count": 3,
   "id": "0c7b2570",
   "metadata": {},
   "outputs": [
    {
     "name": "stdout",
     "output_type": "stream",
     "text": [
      "7\n",
      "5\n"
     ]
    }
   ],
   "source": [
    "numbers = [4, 3, 7, 3, 2]\n",
    "print(numbers[2])\n",
    "numbers[2] = 5\n",
    "print(numbers[2])"
   ]
  },
  {
   "cell_type": "code",
   "execution_count": 4,
   "id": "a620e101",
   "metadata": {},
   "outputs": [
    {
     "name": "stdout",
     "output_type": "stream",
     "text": [
      "5\n"
     ]
    }
   ],
   "source": [
    "#len\n",
    "numbers  = [4, 3, 7, 3, 2]\n",
    "print(len(numbers))"
   ]
  },
  {
   "cell_type": "code",
   "execution_count": 5,
   "id": "8a555540",
   "metadata": {},
   "outputs": [
    {
     "name": "stdout",
     "output_type": "stream",
     "text": [
      "True\n",
      "False\n",
      "1\n",
      "2\n"
     ]
    }
   ],
   "source": [
    "#searching\n",
    "numbers = [4, 3, 7, 3, 2]\n",
    "\n",
    "print(3 in numbers)\n",
    "print(8 in numbers)\n",
    "\n",
    "print(numbers.index(3))\n",
    "print(numbers.count(3))"
   ]
  },
  {
   "cell_type": "code",
   "execution_count": null,
   "id": "ae5ffae8",
   "metadata": {},
   "outputs": [],
   "source": [
    "def count(items, target):\n",
    "    result = 0\n",
    "    for item in items: #[O(n)]\n",
    "        if item == targets:\n",
    "            result += 1\n",
    "    return result"
   ]
  },
  {
   "cell_type": "code",
   "execution_count": null,
   "id": "38d0df88",
   "metadata": {},
   "outputs": [
    {
     "name": "stdout",
     "output_type": "stream",
     "text": [
      "[1, 2, 3, 4, 5]\n",
      "[1, 2, 6, 3, 4, 5]\n"
     ]
    }
   ],
   "source": [
    "#Adding an Element\n",
    "numbers = [1, 2, 3, 4]\n",
    "\n",
    "numbers.append(5) #[O(1)]\n",
    "print(numbers)\n",
    "\n",
    "numbers.insert(2, 6) # [O(n)]\n",
    "print(numbers)"
   ]
  },
  {
   "cell_type": "code",
   "execution_count": 10,
   "id": "a3d495a0",
   "metadata": {},
   "outputs": [
    {
     "name": "stdout",
     "output_type": "stream",
     "text": [
      "[1, 2, 3, 4, 5]\n",
      "[1, 3, 4, 5]\n"
     ]
    }
   ],
   "source": [
    "#Removing an Element\n",
    "numbers = [1, 2, 3, 4, 5, 6]\n",
    "\n",
    "numbers.pop() #[O(1)]\n",
    "print(numbers)\n",
    "\n",
    "numbers.pop(1) #[O(n)]\n",
    "print(numbers)"
   ]
  },
  {
   "cell_type": "code",
   "execution_count": null,
   "id": "c118af6a",
   "metadata": {},
   "outputs": [
    {
     "name": "stdout",
     "output_type": "stream",
     "text": [
      "[1, 2, 4, 5, 6, 3]\n"
     ]
    }
   ],
   "source": [
    "numbers = [1,2,3,4,5,6,3]\n",
    "\n",
    "numbers.remove(3) #[O(n)]\n",
    "print(numbers)"
   ]
  },
  {
   "cell_type": "markdown",
   "id": "f2a23c01",
   "metadata": {},
   "source": [
    "Important part About Time-Complexity in List is \n",
    "### IF LOOP = O(n)\n",
    "### ELSE = O(1)"
   ]
  },
  {
   "cell_type": "code",
   "execution_count": null,
   "id": "267e9b58",
   "metadata": {},
   "outputs": [
    {
     "name": "stdout",
     "output_type": "stream",
     "text": [
      "[1, 2, 3, 4, 5, 5]\n",
      "[1, 2, 3, 4, 5]\n"
     ]
    }
   ],
   "source": [
    "#copying content\n",
    "a = [1, 2, 3, 4, 5]\n",
    "b = a.copy() #[O(n)]\n",
    "a.append(5)\n",
    "\n",
    "print(a)\n",
    "print(b)"
   ]
  },
  {
   "cell_type": "code",
   "execution_count": 13,
   "id": "8cfbb5cf",
   "metadata": {},
   "outputs": [
    {
     "name": "stdout",
     "output_type": "stream",
     "text": [
      "[3, 4, 5, 6]\n"
     ]
    }
   ],
   "source": [
    "#Slicing\n",
    "n = [1, 2, 3, 4, 5, 6, 7, 8]\n",
    "print(n[2:6])"
   ]
  },
  {
   "cell_type": "code",
   "execution_count": 14,
   "id": "f53d2953",
   "metadata": {},
   "outputs": [
    {
     "name": "stdout",
     "output_type": "stream",
     "text": [
      "[1, 2, 3, 4, 5, 6, 7, 8]\n"
     ]
    }
   ],
   "source": [
    "#Concatenating\n",
    "first = [1, 2, 3, 4]\n",
    "second = [5, 6, 7, 8]\n",
    "print(first + second) "
   ]
  },
  {
   "cell_type": "markdown",
   "id": "269ae2f2",
   "metadata": {},
   "source": [
    "# LIST IS OVER"
   ]
  }
 ],
 "metadata": {
  "kernelspec": {
   "display_name": "base",
   "language": "python",
   "name": "python3"
  },
  "language_info": {
   "codemirror_mode": {
    "name": "ipython",
    "version": 3
   },
   "file_extension": ".py",
   "mimetype": "text/x-python",
   "name": "python",
   "nbconvert_exporter": "python",
   "pygments_lexer": "ipython3",
   "version": "3.12.7"
  }
 },
 "nbformat": 4,
 "nbformat_minor": 5
}
