{
 "cells": [
  {
   "cell_type": "code",
   "execution_count": null,
   "id": "7750a73e",
   "metadata": {},
   "outputs": [],
   "source": [
    "O(n^2) = Brute Force Algorithm\n",
    "O(n)[one loop of input] or O(nlogn)[sorting] = Efficient Algorithm"
   ]
  },
  {
   "cell_type": "code",
   "execution_count": null,
   "id": "4acd9b13",
   "metadata": {},
   "outputs": [],
   "source": [
    "#Efficient Algo starts like this \n",
    "for \n",
    "#for O(n) - Single for loop is enough\n",
    "#so the time would be O(1)"
   ]
  },
  {
   "cell_type": "code",
   "execution_count": null,
   "id": "a658ce84",
   "metadata": {},
   "outputs": [],
   "source": [
    "'''\n",
    "Dont's\n",
    "-> No extra Loop\n",
    "-> No slow operations (count or slice [:])\n",
    "-> Slow function calls (sum, min or max)\n",
    "'''"
   ]
  },
  {
   "cell_type": "code",
   "execution_count": null,
   "id": "a8af3371",
   "metadata": {},
   "outputs": [],
   "source": [
    "#Ex : Stock Trading\n",
    "#O(n^2)\n",
    "def best_profit(prices):\n",
    "    n = len(prices)\n",
    "    best = 0\n",
    "    for i in range(n): \n",
    "        for j in range(i + 1, n):\n",
    "            best = max(best, prices[j] - prices[i])\n",
    "    return best"
   ]
  },
  {
   "cell_type": "code",
   "execution_count": null,
   "id": "1e36c521",
   "metadata": {},
   "outputs": [],
   "source": [
    "#O(n^2)\n",
    "def best_profit(prices):\n",
    "    n = len(prices)\n",
    "    best = 0\n",
    "    for i in range(n):\n",
    "        min_price = min(prices[0:i+1])\n",
    "        best = max(best, prices[i] - min_price)\n",
    "    return best"
   ]
  },
  {
   "cell_type": "code",
   "execution_count": 4,
   "id": "efd53291",
   "metadata": {},
   "outputs": [],
   "source": [
    "#O(n)\n",
    "def best_profit(prices):\n",
    "    n = len(prices)\n",
    "    best = 0\n",
    "    min_price = prices[0]\n",
    "    for i in range(n):\n",
    "        min_price = min(min_prices, prices[i])\n",
    "        best = max(best, prices[i] - min_price)\n",
    "    return best "
   ]
  },
  {
   "cell_type": "code",
   "execution_count": null,
   "id": "3aed31ad",
   "metadata": {},
   "outputs": [],
   "source": [
    "#Bit String\n",
    "#O(n^2)\n",
    "def count_ways(bits):\n",
    "    n = len(bits)\n",
    "    result = 0\n",
    "    for i in range(n):\n",
    "        for j in range(i + 1, n):\n",
    "            if bits[i] == '0' and bits[j] == '1':\n",
    "                result += 1\n",
    "    return result"
   ]
  }
 ],
 "metadata": {
  "kernelspec": {
   "display_name": "venv",
   "language": "python",
   "name": "python3"
  },
  "language_info": {
   "codemirror_mode": {
    "name": "ipython",
    "version": 3
   },
   "file_extension": ".py",
   "mimetype": "text/x-python",
   "name": "python",
   "nbconvert_exporter": "python",
   "pygments_lexer": "ipython3",
   "version": "3.12.0"
  }
 },
 "nbformat": 4,
 "nbformat_minor": 5
}
